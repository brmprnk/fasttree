{
 "cells": [
  {
   "cell_type": "code",
   "execution_count": 2,
   "id": "actual-license",
   "metadata": {},
   "outputs": [],
   "source": [
    "from queue import PriorityQueue"
   ]
  },
  {
   "cell_type": "code",
   "execution_count": 18,
   "id": "sunrise-trinity",
   "metadata": {},
   "outputs": [
    {
     "data": {
      "text/plain": [
       "[(3, 'ok3'), (7, 'ok7'), (5, 'ok5')]"
      ]
     },
     "execution_count": 18,
     "metadata": {},
     "output_type": "execute_result"
    }
   ],
   "source": [
    "ok = PriorityQueue()\n",
    "\n",
    "ok.put((3, \"ok3\"))\n",
    "ok.put((7, \"ok7\"))\n",
    "ok.put((5, \"ok5\"))\n",
    "\n",
    "m = 2\n",
    "ok.queue"
   ]
  },
  {
   "cell_type": "code",
   "execution_count": 19,
   "id": "automated-temperature",
   "metadata": {},
   "outputs": [],
   "source": [
    "ok.queue = ok.queue[:m]"
   ]
  },
  {
   "cell_type": "code",
   "execution_count": 20,
   "id": "marine-strike",
   "metadata": {},
   "outputs": [
    {
     "data": {
      "text/plain": [
       "[(3, 'ok3'), (7, 'ok7')]"
      ]
     },
     "execution_count": 20,
     "metadata": {},
     "output_type": "execute_result"
    }
   ],
   "source": [
    "ok.queue"
   ]
  }
 ],
 "metadata": {
  "kernelspec": {
   "display_name": "vae",
   "language": "python",
   "name": "vae"
  },
  "language_info": {
   "codemirror_mode": {
    "name": "ipython",
    "version": 3
   },
   "file_extension": ".py",
   "mimetype": "text/x-python",
   "name": "python",
   "nbconvert_exporter": "python",
   "pygments_lexer": "ipython3",
   "version": "3.9.5"
  }
 },
 "nbformat": 4,
 "nbformat_minor": 5
}
